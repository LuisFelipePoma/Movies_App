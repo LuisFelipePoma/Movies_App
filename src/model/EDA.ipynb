{
 "cells": [
  {
   "cell_type": "markdown",
   "metadata": {},
   "source": [
    "# **EDA (Exploratory Data Analysis)** de `The Movies Dataset`"
   ]
  },
  {
   "cell_type": "markdown",
   "metadata": {},
   "source": [
    "## Data Collection\n",
    "\n",
    "- Cargar los datos\n",
    "- Revisar los registros\n"
   ]
  },
  {
   "cell_type": "markdown",
   "metadata": {},
   "source": [
    "### **Cargar los datos ([`The Movies Dataset`](https://www.kaggle.com/datasets/rounakbanik/the-movies-dataset))**\n"
   ]
  },
  {
   "cell_type": "code",
   "execution_count": null,
   "metadata": {},
   "outputs": [],
   "source": [
    "import zipfile\n",
    "import os\n",
    "# descarmaos usando el CLI de kaggle\n",
    "!kaggle datasets download -d rounakbanik/the-movies-dataset -p data/\n",
    "\n",
    "# descomprimimos el archivo\n",
    "with zipfile.ZipFile(\"./data/the-movies-dataset.zip\", 'r') as zip_ref:\n",
    "    zip_ref.extractall(\"./data\")\n",
    "    \n",
    "# removemos el archivo zip\n",
    "os.remove(\"./data/the-movies-dataset.zip\")\n",
    "\n",
    "# removemos los datasets miniatura<\n",
    "os.remove(\"./data/links_small.csv\")\n",
    "os.remove(\"./data/ratings_small.csv\")"
   ]
  },
  {
   "cell_type": "markdown",
   "metadata": {},
   "source": [
    "No se usaran los dataset `ratings_small.csv` (100k) y `links_small.csv` (9k), debido a que solo son versiones mas pequeñas de `ratings.csv` (25M) y `links.csv` (45k)\n",
    "\n",
    "Leemos con pandas cada uno de los datasets\n"
   ]
  },
  {
   "cell_type": "code",
   "execution_count": null,
   "metadata": {},
   "outputs": [],
   "source": [
    "import pandas as pd\n",
    "\n",
    "df_credits = pd.read_csv(\"./data/credits.csv\")\n",
    "df_keywords = pd.read_csv(\"./data/keywords.csv\")\n",
    "df_links = pd.read_csv(\"./data/links.csv\")\n",
    "df_movies_metada = pd.read_csv(\"./data/movies_metadata.csv\")\n",
    "df_ratings = pd.read_csv(\"./data/ratings.csv\")"
   ]
  },
  {
   "cell_type": "markdown",
   "metadata": {},
   "source": [
    "### **Revisar los registros**\n"
   ]
  },
  {
   "cell_type": "code",
   "execution_count": null,
   "metadata": {},
   "outputs": [],
   "source": [
    "# cambiar ancho de output del notebook\n",
    "pd.set_option(\"display.max_columns\", None)\n",
    "pd.set_option(\"display.expand_frame_repr\", False)\n",
    "pd.set_option(\"max_colwidth\", 80)"
   ]
  },
  {
   "cell_type": "markdown",
   "metadata": {},
   "source": [
    "#### `credits.csv`\n"
   ]
  },
  {
   "cell_type": "code",
   "execution_count": null,
   "metadata": {},
   "outputs": [],
   "source": [
    "df_credits.info()"
   ]
  },
  {
   "cell_type": "code",
   "execution_count": null,
   "metadata": {},
   "outputs": [],
   "source": [
    "df_credits.head(5)"
   ]
  },
  {
   "cell_type": "code",
   "execution_count": null,
   "metadata": {},
   "outputs": [],
   "source": [
    "# Observamos que la columna \"cast\" es un string que contiene una lista de diccionarios\n",
    "df_credits[\"cast\"][:5]"
   ]
  },
  {
   "cell_type": "code",
   "execution_count": null,
   "metadata": {},
   "outputs": [],
   "source": [
    "# Observamos que la columna \"crew\" es un string que contiene una lista de diccionarios\n",
    "df_credits[\"crew\"][:5]"
   ]
  },
  {
   "cell_type": "markdown",
   "metadata": {},
   "source": [
    "#### `keywords.csv`\n"
   ]
  },
  {
   "cell_type": "code",
   "execution_count": null,
   "metadata": {},
   "outputs": [],
   "source": [
    "df_keywords.info()"
   ]
  },
  {
   "cell_type": "code",
   "execution_count": null,
   "metadata": {},
   "outputs": [],
   "source": [
    "df_keywords.head(5)"
   ]
  },
  {
   "cell_type": "code",
   "execution_count": null,
   "metadata": {},
   "outputs": [],
   "source": [
    "# Observamos que la columna \"keywords\" es un string que contiene una lista de diccionarios\n",
    "df_keywords[\"keywords\"][:5]"
   ]
  },
  {
   "cell_type": "markdown",
   "metadata": {},
   "source": [
    "#### `links.csv`\n"
   ]
  },
  {
   "cell_type": "code",
   "execution_count": null,
   "metadata": {},
   "outputs": [],
   "source": [
    "df_links.info()"
   ]
  },
  {
   "cell_type": "code",
   "execution_count": null,
   "metadata": {},
   "outputs": [],
   "source": [
    "df_links.head()"
   ]
  },
  {
   "cell_type": "markdown",
   "metadata": {},
   "source": [
    "#### `movies_metadata.csv`\n"
   ]
  },
  {
   "cell_type": "code",
   "execution_count": null,
   "metadata": {},
   "outputs": [],
   "source": [
    "df_movies_metada.info()"
   ]
  },
  {
   "cell_type": "code",
   "execution_count": null,
   "metadata": {},
   "outputs": [],
   "source": [
    "df_movies_metada.head(2)"
   ]
  },
  {
   "cell_type": "markdown",
   "metadata": {},
   "source": [
    "#### `ratings.csv`\n"
   ]
  },
  {
   "cell_type": "code",
   "execution_count": null,
   "metadata": {},
   "outputs": [],
   "source": [
    "df_ratings.info()"
   ]
  },
  {
   "cell_type": "code",
   "execution_count": null,
   "metadata": {},
   "outputs": [],
   "source": [
    "df_ratings.head(5)"
   ]
  },
  {
   "cell_type": "markdown",
   "metadata": {},
   "source": [
    "## Data Exploration\n",
    "\n",
    "- Revisar los tipos de datos\n",
    "- Revisar los valores nulos\n",
    "- Revisar los valores duplicados\n",
    "- Revisar las estadísticas básicas\n"
   ]
  },
  {
   "cell_type": "markdown",
   "metadata": {},
   "source": [
    "Creamos la funcion para saber que columnas tienen valores nulos\n"
   ]
  },
  {
   "cell_type": "code",
   "execution_count": null,
   "metadata": {},
   "outputs": [],
   "source": [
    "def find_columns_null(df):\n",
    "    columns_null = df.columns[df.isnull().any()].tolist()\n",
    "    return columns_null"
   ]
  },
  {
   "cell_type": "markdown",
   "metadata": {},
   "source": [
    "#### `credits.csv`\n"
   ]
  },
  {
   "cell_type": "code",
   "execution_count": null,
   "metadata": {},
   "outputs": [],
   "source": [
    "# Revisamos la cantidad de columnas y filas\n",
    "df_credits.shape"
   ]
  },
  {
   "cell_type": "code",
   "execution_count": null,
   "metadata": {},
   "outputs": [],
   "source": [
    "# Revisamos los tipos de datos\n",
    "df_credits.dtypes"
   ]
  },
  {
   "cell_type": "code",
   "execution_count": null,
   "metadata": {},
   "outputs": [],
   "source": [
    "# Revisamos los valores unicos\n",
    "df_credits.nunique()"
   ]
  },
  {
   "cell_type": "code",
   "execution_count": null,
   "metadata": {},
   "outputs": [],
   "source": [
    "# Revisamos los valores nulos\n",
    "df_credits.isnull().sum()"
   ]
  },
  {
   "cell_type": "code",
   "execution_count": null,
   "metadata": {},
   "outputs": [],
   "source": [
    "# Revisamos las datos duplicados\n",
    "df_credits.duplicated().sum()"
   ]
  },
  {
   "cell_type": "markdown",
   "metadata": {},
   "source": [
    "#### `keywords.csv`\n"
   ]
  },
  {
   "cell_type": "code",
   "execution_count": null,
   "metadata": {},
   "outputs": [],
   "source": [
    "# Revisamos la cantidad de columnas y filas\n",
    "df_keywords.shape"
   ]
  },
  {
   "cell_type": "code",
   "execution_count": null,
   "metadata": {},
   "outputs": [],
   "source": [
    "# Revisamos los tipos de datos\n",
    "df_keywords.dtypes"
   ]
  },
  {
   "cell_type": "code",
   "execution_count": null,
   "metadata": {},
   "outputs": [],
   "source": [
    "# Revisamos los valores unicos\n",
    "df_keywords.nunique()"
   ]
  },
  {
   "cell_type": "code",
   "execution_count": null,
   "metadata": {},
   "outputs": [],
   "source": [
    "# Revisamos los valores nulos\n",
    "df_keywords.isnull().sum()"
   ]
  },
  {
   "cell_type": "code",
   "execution_count": null,
   "metadata": {},
   "outputs": [],
   "source": [
    "# Revisamos las datos duplicados\n",
    "df_keywords.duplicated().sum()"
   ]
  },
  {
   "cell_type": "markdown",
   "metadata": {},
   "source": [
    "#### `links.csv`\n"
   ]
  },
  {
   "cell_type": "code",
   "execution_count": null,
   "metadata": {},
   "outputs": [],
   "source": [
    "# Revisamos la cantidad de columnas y filas\n",
    "df_links.shape"
   ]
  },
  {
   "cell_type": "code",
   "execution_count": null,
   "metadata": {},
   "outputs": [],
   "source": [
    "# Revisamos los tipos de datos\n",
    "df_links.dtypes"
   ]
  },
  {
   "cell_type": "code",
   "execution_count": null,
   "metadata": {},
   "outputs": [],
   "source": [
    "# Revisamos los valores unicos\n",
    "df_links.nunique()"
   ]
  },
  {
   "cell_type": "code",
   "execution_count": null,
   "metadata": {},
   "outputs": [],
   "source": [
    "# Revisamos los valores nulos\n",
    "df_links.isnull().sum()"
   ]
  },
  {
   "cell_type": "code",
   "execution_count": null,
   "metadata": {},
   "outputs": [],
   "source": [
    "# Revisamos las datos duplicados\n",
    "df_links.duplicated().sum()"
   ]
  },
  {
   "cell_type": "markdown",
   "metadata": {},
   "source": [
    "#### `movies_metadata.csv`\n"
   ]
  },
  {
   "cell_type": "code",
   "execution_count": null,
   "metadata": {},
   "outputs": [],
   "source": [
    "# Revisamos la cantidad de columnas y filas\n",
    "df_movies_metada.shape"
   ]
  },
  {
   "cell_type": "code",
   "execution_count": null,
   "metadata": {},
   "outputs": [],
   "source": [
    "# Revisamos los tipos de datos\n",
    "df_movies_metada.dtypes"
   ]
  },
  {
   "cell_type": "code",
   "execution_count": null,
   "metadata": {},
   "outputs": [],
   "source": [
    "# Revisamos las columnas numericas\n",
    "df_movies_metada.select_dtypes(include=[\"int64\", \"float64\"]).describe()"
   ]
  },
  {
   "cell_type": "code",
   "execution_count": null,
   "metadata": {},
   "outputs": [],
   "source": [
    "# Revisamos los valores unicos\n",
    "df_movies_metada.nunique()"
   ]
  },
  {
   "cell_type": "code",
   "execution_count": null,
   "metadata": {},
   "outputs": [],
   "source": [
    "# Revisamos los valores nulos\n",
    "df_movies_metada.isnull().sum()"
   ]
  },
  {
   "cell_type": "code",
   "execution_count": null,
   "metadata": {},
   "outputs": [],
   "source": [
    "find_columns_null(df_movies_metada)"
   ]
  },
  {
   "cell_type": "code",
   "execution_count": null,
   "metadata": {},
   "outputs": [],
   "source": [
    "# Revisamos las datos duplicados\n",
    "df_movies_metada.duplicated().sum()"
   ]
  },
  {
   "cell_type": "markdown",
   "metadata": {},
   "source": [
    "#### `ratings.csv`\n"
   ]
  },
  {
   "cell_type": "code",
   "execution_count": null,
   "metadata": {},
   "outputs": [],
   "source": [
    "# Revisamos la cantidad de columnas y filas\n",
    "df_ratings.shape"
   ]
  },
  {
   "cell_type": "code",
   "execution_count": null,
   "metadata": {},
   "outputs": [],
   "source": [
    "# Revisamos los tipos de datos\n",
    "df_ratings.dtypes"
   ]
  },
  {
   "cell_type": "code",
   "execution_count": null,
   "metadata": {},
   "outputs": [],
   "source": [
    "# Revisamos los valores unicos\n",
    "df_ratings.nunique()"
   ]
  },
  {
   "cell_type": "code",
   "execution_count": null,
   "metadata": {},
   "outputs": [],
   "source": [
    "# Revisamos los valores nulos\n",
    "df_ratings.isnull().sum()"
   ]
  },
  {
   "cell_type": "code",
   "execution_count": null,
   "metadata": {},
   "outputs": [],
   "source": [
    "# Revisamos las datos duplicados\n",
    "df_ratings.duplicated().sum()"
   ]
  },
  {
   "cell_type": "markdown",
   "metadata": {},
   "source": [
    "## Data Preprocessing\n",
    "\n",
    "- Eliminar columnas innecesarias\n",
    "- Eliminar registros con valores nulos\n",
    "- Eliminar registros duplicados\n",
    "- Convertir los tipos de datos\n"
   ]
  },
  {
   "cell_type": "markdown",
   "metadata": {},
   "source": [
    "Creamos una funcion para limpiar los datos\n"
   ]
  },
  {
   "cell_type": "code",
   "execution_count": null,
   "metadata": {},
   "outputs": [],
   "source": [
    "from ast import literal_eval\n",
    "from typing import Callable\n",
    "\n",
    "# funcion para obtener los valores de un string\n",
    "def extract_info(text, obj: str = \"name\", func: Callable = lambda _: True):\n",
    "    # Si el texto es un string sin nada que evaluar\n",
    "    try:\n",
    "        text = literal_eval(text)\n",
    "    except:\n",
    "        return text\n",
    "    # Si el texto es un diccionario\n",
    "    if type(text) == dict:\n",
    "        return text[obj]\n",
    "    # Si el texto es una lista\n",
    "    if type(text) == list:\n",
    "        if len(text) == 0: # Si la lista esta vacia\n",
    "            return \"No\"\n",
    "        if len(text) == 1: # Si la lista tiene un solo elemento\n",
    "            for i in text:\n",
    "                return i[obj]\n",
    "        else: # Si la lista tiene mas de un elemento\n",
    "            s = [] # lista para almacenar los valores\n",
    "            for i in text:\n",
    "                if func(i):  # si la funcion es verdadera\n",
    "                    s.append(i[obj]) # agregamos el valor a la lista\n",
    "            return \", \".join(s) # retornamos la lista como un string"
   ]
  },
  {
   "cell_type": "markdown",
   "metadata": {},
   "source": [
    "#### `credits.csv`\n"
   ]
  },
  {
   "cell_type": "code",
   "execution_count": null,
   "metadata": {},
   "outputs": [],
   "source": [
    "df_credits.shape"
   ]
  },
  {
   "cell_type": "code",
   "execution_count": null,
   "metadata": {},
   "outputs": [],
   "source": [
    "df_credits.head(2)"
   ]
  },
  {
   "cell_type": "markdown",
   "metadata": {},
   "source": [
    "Primero eliminamos los valores duplicados, ya que nulos no existen\n"
   ]
  },
  {
   "cell_type": "code",
   "execution_count": null,
   "metadata": {},
   "outputs": [],
   "source": [
    "df_credits = df_credits.drop_duplicates()\n",
    "df_credits.shape"
   ]
  },
  {
   "cell_type": "markdown",
   "metadata": {},
   "source": [
    "Obtenemos `character`, `actors`, `director` de las columnas `cast` y `crew` en dict para poder revisar la data\n"
   ]
  },
  {
   "cell_type": "code",
   "execution_count": null,
   "metadata": {},
   "outputs": [],
   "source": [
    "df_credits[\"characters\"] = df_credits[\"cast\"].apply(\n",
    "    extract_info, obj=\"character\"\n",
    ")  # personajes\n",
    "df_credits[\"actors\"] = df_credits[\"cast\"].apply(extract_info)  # actores\n",
    "\n",
    "# obtenemos el director\n",
    "df_credits[\"director\"] = df_credits[\"crew\"].apply(\n",
    "    extract_info, args=(\"name\", lambda x: x[\"job\"] == \"Director\")\n",
    ")\n",
    "\n",
    "# obtenemos los guionistas\n",
    "df_credits[\"crew\"] = df_credits[\"crew\"].apply(\n",
    "    extract_info, args=(\"name\", lambda x: x[\"job\"] != \"Director\")\n",
    ")"
   ]
  },
  {
   "cell_type": "markdown",
   "metadata": {},
   "source": [
    "Reorganizamos las columnas\n"
   ]
  },
  {
   "cell_type": "code",
   "execution_count": null,
   "metadata": {},
   "outputs": [],
   "source": [
    "# Removemos las columnas innecesarias\n",
    "df_credits = df_credits.drop(columns=[\"cast\"])\n",
    "\n",
    "# Cambiamos el orden de las columnas\n",
    "df_credits = df_credits[[\"id\", \"characters\", \"actors\", \"director\", \"crew\"]]\n",
    "\n",
    "# Cambiamos el nombre de la columna id\n",
    "df_credits = df_credits.rename(columns={\"id\": \"movie_id\"})"
   ]
  },
  {
   "cell_type": "code",
   "execution_count": null,
   "metadata": {},
   "outputs": [],
   "source": [
    "df_credits.head(2)"
   ]
  },
  {
   "cell_type": "code",
   "execution_count": null,
   "metadata": {},
   "outputs": [],
   "source": [
    "# Guardamos el dataset limpio\n",
    "df_credits.to_csv(\"./data_clean/credits.csv\", index=False)"
   ]
  },
  {
   "cell_type": "markdown",
   "metadata": {},
   "source": [
    "#### `keywords.csv`\n"
   ]
  },
  {
   "cell_type": "code",
   "execution_count": null,
   "metadata": {},
   "outputs": [],
   "source": [
    "# Revisamos la cantidad de columnas y filas\n",
    "df_keywords.shape"
   ]
  },
  {
   "cell_type": "code",
   "execution_count": null,
   "metadata": {},
   "outputs": [],
   "source": [
    "df_keywords.head(2)"
   ]
  },
  {
   "cell_type": "markdown",
   "metadata": {},
   "source": [
    "Ahora eliminamos los valores duplicados, ya que nulos no existen\n"
   ]
  },
  {
   "cell_type": "code",
   "execution_count": null,
   "metadata": {},
   "outputs": [],
   "source": [
    "df_keywords = df_keywords.drop_duplicates()\n",
    "df_keywords.shape"
   ]
  },
  {
   "cell_type": "markdown",
   "metadata": {},
   "source": [
    "Obtenemos las `keywords` en dict para poder revisar la data\n"
   ]
  },
  {
   "cell_type": "code",
   "execution_count": null,
   "metadata": {},
   "outputs": [],
   "source": [
    "df_keywords[\"keywords\"] = df_keywords[\"keywords\"].apply(extract_info)"
   ]
  },
  {
   "cell_type": "markdown",
   "metadata": {},
   "source": [
    "Reorganizamos las columnas\n"
   ]
  },
  {
   "cell_type": "code",
   "execution_count": null,
   "metadata": {},
   "outputs": [],
   "source": [
    "df_keywords.rename(columns={\"id\": \"movie_id\"}, inplace=True)"
   ]
  },
  {
   "cell_type": "code",
   "execution_count": null,
   "metadata": {},
   "outputs": [],
   "source": [
    "df_keywords.head(2)"
   ]
  },
  {
   "cell_type": "code",
   "execution_count": null,
   "metadata": {},
   "outputs": [],
   "source": [
    "# Guardamos el dataset limpio\n",
    "df_keywords.to_csv(\"./data_clean/keywords.csv\", index=False)"
   ]
  },
  {
   "cell_type": "markdown",
   "metadata": {},
   "source": [
    "#### `links.csv`\n"
   ]
  },
  {
   "cell_type": "code",
   "execution_count": null,
   "metadata": {},
   "outputs": [],
   "source": [
    "df_links.shape"
   ]
  },
  {
   "cell_type": "code",
   "execution_count": null,
   "metadata": {},
   "outputs": [],
   "source": [
    "df_links.dtypes"
   ]
  },
  {
   "cell_type": "markdown",
   "metadata": {},
   "source": [
    "Primero convertimos `tmdbId` de float64 a int64\n"
   ]
  },
  {
   "cell_type": "code",
   "execution_count": null,
   "metadata": {},
   "outputs": [],
   "source": [
    "df_links[\"tmdbId\"] = df_links[\"tmdbId\"].astype(\"Int64\")\n",
    "df_links.dtypes"
   ]
  },
  {
   "cell_type": "markdown",
   "metadata": {},
   "source": [
    "Ahora procesaremos los valores nulos, ya que duplicados no existen\n"
   ]
  },
  {
   "cell_type": "code",
   "execution_count": null,
   "metadata": {},
   "outputs": [],
   "source": [
    "df_links[df_links[\"tmdbId\"].isnull()]"
   ]
  },
  {
   "cell_type": "code",
   "execution_count": null,
   "metadata": {},
   "outputs": [],
   "source": [
    "df_links[\"tmdbId\"] = df_links[\"tmdbId\"].fillna(-1)"
   ]
  },
  {
   "cell_type": "code",
   "execution_count": null,
   "metadata": {},
   "outputs": [],
   "source": [
    "df_links.isnull().sum()"
   ]
  },
  {
   "cell_type": "markdown",
   "metadata": {},
   "source": [
    "Ahora renombremos las columnas\n"
   ]
  },
  {
   "cell_type": "code",
   "execution_count": null,
   "metadata": {},
   "outputs": [],
   "source": [
    "df_links.rename(columns={\"movieId\": \"movie_id\"}, inplace=True)"
   ]
  },
  {
   "cell_type": "code",
   "execution_count": null,
   "metadata": {},
   "outputs": [],
   "source": [
    "df_links.head(2)"
   ]
  },
  {
   "cell_type": "code",
   "execution_count": null,
   "metadata": {},
   "outputs": [],
   "source": [
    "# Guardar el dataset limpio\n",
    "df_links.to_csv(\"./data_clean/links.csv\", index=False)"
   ]
  },
  {
   "cell_type": "markdown",
   "metadata": {},
   "source": [
    "#### `movies_metadata.csv`\n"
   ]
  },
  {
   "cell_type": "code",
   "execution_count": null,
   "metadata": {},
   "outputs": [],
   "source": [
    "df_movies_metada.shape"
   ]
  },
  {
   "cell_type": "code",
   "execution_count": null,
   "metadata": {},
   "outputs": [],
   "source": [
    "df_movies_metada.head(2)"
   ]
  },
  {
   "cell_type": "markdown",
   "metadata": {},
   "source": [
    "Antes de nada eliminamos unos datos raro en el datset\n"
   ]
  },
  {
   "cell_type": "code",
   "execution_count": null,
   "metadata": {},
   "outputs": [],
   "source": [
    "df_movies_metada[df_movies_metada[\"belongs_to_collection\"] == \"0.065736\"]"
   ]
  },
  {
   "cell_type": "code",
   "execution_count": null,
   "metadata": {},
   "outputs": [],
   "source": [
    "df_movies_metada[df_movies_metada[\"belongs_to_collection\"] == \"2.185485\"]"
   ]
  },
  {
   "cell_type": "code",
   "execution_count": null,
   "metadata": {},
   "outputs": [],
   "source": [
    "df_movies_metada[df_movies_metada[\"belongs_to_collection\"] == \"1.931659\"]"
   ]
  },
  {
   "cell_type": "code",
   "execution_count": null,
   "metadata": {},
   "outputs": [],
   "source": [
    "index_corrupted = df_movies_metada[\n",
    "    df_movies_metada[\"belongs_to_collection\"] == \"0.065736\"\n",
    "].index\n",
    "df_movies_metada = df_movies_metada.drop(index_corrupted)\n",
    "\n",
    "index_corrupted = df_movies_metada[\n",
    "    df_movies_metada[\"belongs_to_collection\"] == \"2.185485\"\n",
    "].index\n",
    "df_movies_metada = df_movies_metada.drop(index_corrupted)\n",
    "\n",
    "index_corrupted = df_movies_metada[\n",
    "    df_movies_metada[\"belongs_to_collection\"] == \"1.931659\"\n",
    "].index\n",
    "df_movies_metada = df_movies_metada.drop(index_corrupted)"
   ]
  },
  {
   "cell_type": "markdown",
   "metadata": {},
   "source": [
    "Primero seleccionaremos que columnas seran necesarias para nuestro caso\n"
   ]
  },
  {
   "cell_type": "code",
   "execution_count": null,
   "metadata": {},
   "outputs": [],
   "source": [
    "df_movies_metada.drop(\n",
    "    columns=[\n",
    "        \"imdb_id\",\n",
    "        \"homepage\",\n",
    "        \"poster_path\",\n",
    "        \"video\",\n",
    "        \"title\",\n",
    "        \"production_countries\",\n",
    "    ],\n",
    "    inplace=True,\n",
    ")"
   ]
  },
  {
   "cell_type": "markdown",
   "metadata": {},
   "source": [
    "Ahora procesaremos los datos nulos de cada columna (Categorica)\n"
   ]
  },
  {
   "cell_type": "code",
   "execution_count": null,
   "metadata": {},
   "outputs": [],
   "source": [
    "find_columns_null(df_movies_metada)"
   ]
  },
  {
   "cell_type": "code",
   "execution_count": null,
   "metadata": {},
   "outputs": [],
   "source": [
    "# belongs_to_collection\n",
    "df_movies_metada[\"belongs_to_collection\"].fillna(\n",
    "    \"{'name': 'No'}\", inplace=True)\n",
    "df_movies_metada[\"belongs_to_collection\"] = df_movies_metada[\n",
    "    \"belongs_to_collection\"\n",
    "].apply(extract_info)"
   ]
  },
  {
   "cell_type": "code",
   "execution_count": null,
   "metadata": {},
   "outputs": [],
   "source": [
    "# genres\n",
    "df_movies_metada[\"genres\"].fillna(\"No\", inplace=True)\n",
    "df_movies_metada[\"genres\"] = df_movies_metada[\"genres\"].apply(extract_info)"
   ]
  },
  {
   "cell_type": "code",
   "execution_count": null,
   "metadata": {},
   "outputs": [],
   "source": [
    "# production_companies\n",
    "df_movies_metada[\"production_companies\"].fillna(\"No\", inplace=True)\n",
    "df_movies_metada[\"production_companies\"] = df_movies_metada[\n",
    "    \"production_companies\"\n",
    "].apply(extract_info)"
   ]
  },
  {
   "cell_type": "code",
   "execution_count": null,
   "metadata": {},
   "outputs": [],
   "source": [
    "# spoken_languages\n",
    "df_movies_metada[\"spoken_languages\"].fillna(\"No\", inplace=True)\n",
    "df_movies_metada[\"spoken_languages\"] = df_movies_metada[\"spoken_languages\"].apply(extract_info)"
   ]
  },
  {
   "cell_type": "code",
   "execution_count": null,
   "metadata": {},
   "outputs": [],
   "source": [
    "# tag_line\n",
    "df_movies_metada[\"tagline\"].fillna(\"No\", inplace=True)"
   ]
  },
  {
   "cell_type": "code",
   "execution_count": null,
   "metadata": {},
   "outputs": [],
   "source": [
    "# status\n",
    "df_movies_metada[\"status\"].fillna(\"No\", inplace=True)"
   ]
  },
  {
   "cell_type": "code",
   "execution_count": null,
   "metadata": {},
   "outputs": [],
   "source": [
    "# original_language\n",
    "df_movies_metada[\"original_language\"].fillna(\"No\", inplace=True)"
   ]
  },
  {
   "cell_type": "code",
   "execution_count": null,
   "metadata": {},
   "outputs": [],
   "source": [
    "# overview\n",
    "df_movies_metada[\"overview\"].fillna(\"No\", inplace=True)"
   ]
  },
  {
   "cell_type": "code",
   "execution_count": null,
   "metadata": {},
   "outputs": [],
   "source": [
    "find_columns_null(df_movies_metada)"
   ]
  },
  {
   "cell_type": "code",
   "execution_count": null,
   "metadata": {},
   "outputs": [],
   "source": [
    "df_movies_metada.head(2)"
   ]
  },
  {
   "cell_type": "markdown",
   "metadata": {},
   "source": [
    "Ahora procesaremos los datos nulos de cada columna (Numericas)\n"
   ]
  },
  {
   "cell_type": "code",
   "execution_count": null,
   "metadata": {},
   "outputs": [],
   "source": [
    "find_columns_null(df_movies_metada)"
   ]
  },
  {
   "cell_type": "code",
   "execution_count": null,
   "metadata": {},
   "outputs": [],
   "source": [
    "df_movies_metada[find_columns_null(df_movies_metada)].dtypes"
   ]
  },
  {
   "cell_type": "code",
   "execution_count": null,
   "metadata": {},
   "outputs": [],
   "source": [
    "# popularity\n",
    "df_movies_metada[\"popularity\"] = df_movies_metada[\"popularity\"].astype(\n",
    "    \"float\"\n",
    ")  # convert to float\n",
    "\n",
    "df_movies_metada[\"popularity\"].fillna(\n",
    "    df_movies_metada[\"popularity\"].median(), inplace=True\n",
    ")  # clean the nulls"
   ]
  },
  {
   "cell_type": "code",
   "execution_count": null,
   "metadata": {},
   "outputs": [],
   "source": [
    "# release_date\n",
    "df_movies_metada[\"release_date\"] = pd.to_datetime(\n",
    "    df_movies_metada[\"release_date\"], errors=\"coerce\"\n",
    ")  # convert to datetime\n",
    "\n",
    "\n",
    "df_movies_metada[\"release_date\"].fillna(\n",
    "    df_movies_metada[\"release_date\"].mode()[0], inplace=True\n",
    ")  # clean nulls"
   ]
  },
  {
   "cell_type": "code",
   "execution_count": null,
   "metadata": {},
   "outputs": [],
   "source": [
    "# revenue\n",
    "df_movies_metada[\"revenue\"] = df_movies_metada[\"revenue\"].astype(\n",
    "    \"float\"\n",
    ")  # convert to float\n",
    "\n",
    "df_movies_metada[\"revenue\"].fillna(\n",
    "    df_movies_metada[\"revenue\"].median(), inplace=True\n",
    ")  # clean nulls"
   ]
  },
  {
   "cell_type": "code",
   "execution_count": null,
   "metadata": {},
   "outputs": [],
   "source": [
    "# runtime\n",
    "df_movies_metada[\"runtime\"] = df_movies_metada[\"runtime\"].astype(\n",
    "    \"float\"\n",
    ")  # convert to float\n",
    "\n",
    "df_movies_metada[\"runtime\"].fillna(\n",
    "    df_movies_metada[\"runtime\"].mean(), inplace=True\n",
    ")  # clean nulls"
   ]
  },
  {
   "cell_type": "code",
   "execution_count": null,
   "metadata": {},
   "outputs": [],
   "source": [
    "# vote_average\n",
    "df_movies_metada[\"vote_average\"].fillna(\n",
    "    df_movies_metada[\"vote_average\"].mean(), inplace=True\n",
    ")  # clean nulls\n",
    "\n",
    "df_movies_metada[\"vote_average\"] = df_movies_metada[\"vote_average\"].astype(\n",
    "    \"float\"\n",
    ")  # convert to float"
   ]
  },
  {
   "cell_type": "code",
   "execution_count": null,
   "metadata": {},
   "outputs": [],
   "source": [
    "# vote_count\n",
    "df_movies_metada[\"vote_count\"].fillna(\n",
    "    df_movies_metada[\"vote_count\"].median(), inplace=True\n",
    ")  # clean nulls\n",
    "df_movies_metada[\"vote_count\"] = df_movies_metada[\"vote_count\"].astype(\n",
    "    \"int64\"\n",
    ")  # convert to int"
   ]
  },
  {
   "cell_type": "code",
   "execution_count": null,
   "metadata": {},
   "outputs": [],
   "source": [
    "find_columns_null(df_movies_metada)"
   ]
  },
  {
   "cell_type": "markdown",
   "metadata": {},
   "source": [
    "Ordenamos las columnas\n"
   ]
  },
  {
   "cell_type": "code",
   "execution_count": null,
   "metadata": {},
   "outputs": [],
   "source": [
    "# ORdenamos las columnas\n",
    "df_movies_metada = df_movies_metada[\n",
    "    [\n",
    "        \"id\",\n",
    "        \"adult\",\n",
    "        \"belongs_to_collection\",\n",
    "        \"budget\",\n",
    "        \"genres\",\n",
    "        \"original_language\",\n",
    "        \"overview\",\n",
    "        \"popularity\",\n",
    "        \"production_companies\",\n",
    "        \"release_date\",\n",
    "        \"revenue\",\n",
    "        \"runtime\",\n",
    "        \"spoken_languages\",\n",
    "        \"status\",\n",
    "        \"tagline\",\n",
    "        \"vote_average\",\n",
    "        \"vote_count\",\n",
    "    ]\n",
    "]\n",
    "\n",
    "df_movies_metada.rename(columns={\"id\": \"movie_id\"}, inplace=True)"
   ]
  },
  {
   "cell_type": "code",
   "execution_count": null,
   "metadata": {},
   "outputs": [],
   "source": [
    "df_movies_metada.head(1)"
   ]
  },
  {
   "cell_type": "code",
   "execution_count": null,
   "metadata": {},
   "outputs": [],
   "source": [
    "# guardar el dataset limpio\n",
    "df_movies_metada.to_csv(\"./data_clean/movies_metadata.csv\", index=False)"
   ]
  },
  {
   "cell_type": "markdown",
   "metadata": {},
   "source": [
    "#### `ratings.csv`"
   ]
  },
  {
   "cell_type": "code",
   "execution_count": null,
   "metadata": {},
   "outputs": [],
   "source": [
    "df_ratings.shape"
   ]
  },
  {
   "cell_type": "code",
   "execution_count": null,
   "metadata": {},
   "outputs": [],
   "source": [
    "df_ratings.head(2)"
   ]
  },
  {
   "cell_type": "code",
   "execution_count": null,
   "metadata": {},
   "outputs": [],
   "source": [
    "df_ratings.rename(columns={\"movieId\": \"movie_id\",\n",
    "                  \"userId\": \"user_id\"}, inplace=True)"
   ]
  },
  {
   "cell_type": "code",
   "execution_count": null,
   "metadata": {},
   "outputs": [],
   "source": [
    "df_ratings.head(2)"
   ]
  },
  {
   "cell_type": "code",
   "execution_count": null,
   "metadata": {},
   "outputs": [],
   "source": [
    "# guardar el dataset limpio\n",
    "df_ratings.to_csv(\"./data_clean/ratings.csv\", index=False)"
   ]
  },
  {
   "cell_type": "markdown",
   "metadata": {},
   "source": [
    "#### `data_clean.csv`"
   ]
  },
  {
   "cell_type": "code",
   "execution_count": null,
   "metadata": {},
   "outputs": [],
   "source": [
    "df_clean = pd.merge(df_movies_metada, df_ratings, on=\"movie_id\")"
   ]
  },
  {
   "cell_type": "markdown",
   "metadata": {},
   "source": [
    "## Data Visualization\n",
    "\n",
    "- Visualizar los datos\n",
    "- Visualizar la correlación\n"
   ]
  },
  {
   "cell_type": "code",
   "execution_count": null,
   "metadata": {},
   "outputs": [],
   "source": [
    "import random\n",
    "\n",
    "def generate_rgb():\n",
    "    # Generar valores RGB aleatorios\n",
    "    r = random.randint(0, 255)\n",
    "    g = random.randint(0, 255)\n",
    "    b = random.randint(0, 255)\n",
    "\n",
    "    # Convertir los valores RGB a formato hexadecimal\n",
    "    color_hex = \"#{:02x}{:02x}{:02x}\".format(r, g, b)\n",
    "\n",
    "    return color_hex"
   ]
  },
  {
   "cell_type": "code",
   "execution_count": null,
   "metadata": {},
   "outputs": [],
   "source": [
    "import matplotlib.pyplot as plt\n",
    "import seaborn as sns\n",
    "from wordcloud import WordCloud\n",
    "from collections import Counter"
   ]
  },
  {
   "cell_type": "code",
   "execution_count": null,
   "metadata": {},
   "outputs": [],
   "source": [
    "df_movies_metada[\"movie_id\"] = df_movies_metada[\"movie_id\"].astype(\"int64\")\n",
    "df = df_movies_metada.merge(df_keywords, on=\"movie_id\").merge(\n",
    "    df_credits, on=\"movie_id\")\n",
    "df[\"budget\"] = df[\"budget\"].astype(float)\n",
    "df[\"revenue\"] = df[\"revenue\"].astype(float)"
   ]
  },
  {
   "cell_type": "code",
   "execution_count": null,
   "metadata": {},
   "outputs": [],
   "source": [
    "plt.figure(figsize=(18, 18))  # tamaño de la figura\n",
    "plt.title(\n",
    "    \"Las palabras mas comunes en las descripciones de las peliculas\\n\",\n",
    "    fontsize=28,\n",
    "    weight=600,\n",
    "    color=\"#1f1f1f\",\n",
    ")\n",
    "# Generar la nube de palabras\n",
    "wordcloud = WordCloud(max_words=1000, min_font_size=10, height=650, width=1500).generate(\n",
    "    \" \".join(df[\"overview\"])\n",
    ")\n",
    "\n",
    "# Mostrar la nube de palabras\n",
    "plt.imshow(wordcloud)"
   ]
  },
  {
   "cell_type": "markdown",
   "metadata": {},
   "source": [
    "Es interesante notar que palabras como \"life\", \"one\", \"find\", \"love\", \"story\" y \"world\" son recurrentes en las descripciones de las películas. La frecuencia de estas palabras podría indicar que estas temáticas son centrales en muchas películas del conjunto de datos."
   ]
  },
  {
   "cell_type": "code",
   "execution_count": null,
   "metadata": {},
   "outputs": [],
   "source": [
    "plt.figure(figsize=(18, 18))  # tamaño de la figura\n",
    "plt.title(\n",
    "    \"Las palabras clave mas comunes en las peliculas\\n\",\n",
    "    fontsize=28,\n",
    "    weight=600,\n",
    "    color=\"#1f1f1f\",\n",
    ")\n",
    "wordcloud = WordCloud(\n",
    "    max_words=1000, min_font_size=10, height=650, width=1500\n",
    ").generate(\" \".join(df[\"keywords\"]))\n",
    "\n",
    "plt.imshow(X=wordcloud)"
   ]
  },
  {
   "cell_type": "markdown",
   "metadata": {},
   "source": [
    "Se puede observar que palabras como \"director\", \"woman\", \"independent film\", \"based\" y \"highschool\" son frecuentes en las palabras clave de las películas. Estas palabras indican temas y características específicas que son relevantes en el contexto del cine. Por ejemplo, \"director\" sugiere la importancia del rol del director en la película, \"woman\" podría indicar la presencia de personajes femeninos destacados, \"independent film\" señala películas producidas de manera independiente fuera de los estudios principales, \"based\" podría referirse a películas basadas en eventos reales o libros, y \"highschool\" indica historias ambientadas en escuelas secundarias. Estos temas y elementos pueden ser importantes para segmentar y comprender mejor las películas en términos de género, audiencia objetivo y estilo cinematográfico."
   ]
  },
  {
   "cell_type": "code",
   "execution_count": null,
   "metadata": {},
   "outputs": [],
   "source": [
    "# Generar un grafico de barras con los generos mas comunes\n",
    "sns.displot(\n",
    "    data=df,\n",
    "    x=\"release_date\",\n",
    "    kind=\"hist\",\n",
    "    kde=True,\n",
    "    facecolor=generate_rgb(),\n",
    "    edgecolor=\"#f1f1f1\",\n",
    "    line_kws={\"lw\": 1.5},\n",
    "    color=\"red\",\n",
    "    aspect=4,\n",
    ")\n",
    "plt.title(\n",
    "    \"Cantidad de peliculas estrenadas por año\", fontsize=16, weight=700, color=\"#1f1f1f\"\n",
    ")"
   ]
  },
  {
   "cell_type": "markdown",
   "metadata": {},
   "source": [
    "Desde 1930, la industria cinematográfica ha experimentado un crecimiento significativo durante los últimos 50 años. Asimismo, la disminución en el número total de películas estrenadas alrededor de 2020 puede atribuirse al hecho de que el conjunto de datos solo contiene datos limitados de esos años ."
   ]
  },
  {
   "cell_type": "code",
   "execution_count": null,
   "metadata": {},
   "outputs": [],
   "source": [
    "# Preparamos los datos\n",
    "genres_list: list[str] = df[\"genres\"].apply(lambda x: x.split(\", \")).sum()\n",
    "colors: list[str] = [\n",
    "    generate_rgb(),\n",
    "    generate_rgb(),\n",
    "    generate_rgb(),\n",
    "    generate_rgb(),\n",
    "    generate_rgb()\n",
    "]\n",
    "\n",
    "# Organizamos los datos\n",
    "df_top = pd.DataFrame(Counter(genres_list).most_common(5), columns=[\"genre\", \"total\"])\n",
    "df_full = pd.DataFrame([Counter(genres_list)]).transpose().sort_values(by=0, ascending=False)  # type: ignore\n",
    "\n",
    "# Ahora graficamos el grafico de barras de las top 5\n",
    "fig, axes = plt.subplots(nrows=1, ncols=2, figsize=(14, 6))\n",
    "\n",
    "# Grafico de barras\n",
    "ax = sns.barplot(\n",
    "    data=df_top,\n",
    "    x=\"genre\",\n",
    "    y=\"total\",\n",
    "    ax=axes[0],\n",
    "    palette=colors,\n",
    "    hue=\"genre\",\n",
    "    legend=False\n",
    ")\n",
    "ax.set_title(\"Top 5 Generos de Películas\", fontsize=16, weight=600, color=\"#1f1f1f\")\n",
    "sns.despine() # removemos los bordes\n",
    "\n",
    "# Ahora graficamos el grafico circular de las top 5 y otros\n",
    "df_top.loc[len(df_top)] = {\"genre\": \"Otros\", \"total\": df_full[6:].sum()[0]}  # type: ignore\n",
    "plt.title(\n",
    "    \"Porcentaje de géneros de películas\", fontsize=16, weight=600, color=\"#1f1f1f\"\n",
    ")\n",
    "\n",
    "colors.insert(0, generate_rgb()) # insertamos un color para \"Otros\"\n",
    "axes[1].pie(\n",
    "    x=df_top[\"total\"],\n",
    "    labels=df_top[\"genre\"],\n",
    "    autopct=\"%1.1f%%\",\n",
    "    textprops=dict(color=\"#1f1f1f\", fontsize=12),\n",
    "    explode=[0, 0, 0, 0, 0, 0.1],\n",
    "    colors=colors\n",
    ")\n",
    "axes[1].axis(\"off\")"
   ]
  },
  {
   "cell_type": "markdown",
   "metadata": {},
   "source": [
    "El género drama destaca como el más dominante, con más de 20,000 películas en el conjunto de datos.Aunque los cinco géneros principales son prominentes, todavía existen numerosos géneros adicionales en el conjunto de datos, representando el 38.8% del total de géneros cinematográficos."
   ]
  },
  {
   "cell_type": "code",
   "execution_count": null,
   "metadata": {},
   "outputs": [],
   "source": [
    "# Con relplot graficamos la relacion entre Rating y Popularidad en base al voto\n",
    "sns.relplot(\n",
    "    data=df,\n",
    "    x=\"vote_average\",\n",
    "    y=\"popularity\",\n",
    "    size=\"vote_count\",\n",
    "    sizes=(30, 190),\n",
    "    alpha=0.65,\n",
    "    aspect=4,\n",
    "    color=generate_rgb(),\n",
    "    legend=\"brief\",\n",
    ")\n",
    "# Agregamos el titulo\n",
    "plt.title(\n",
    "    \"La relacion entre Rating y Popularidad\",\n",
    "    fontsize=16,\n",
    "    weight=600,\n",
    "    color=\"#1f1f1f\",\n",
    ")"
   ]
  },
  {
   "cell_type": "markdown",
   "metadata": {},
   "source": [
    "- Las películas que obtuvieron una calificación de 0 o 10 se deben básicamente a un pequeño número de votantes. A medida que aumenta el recuento de votos, lo más probable es que la calificación esté entre 5 y 8,5.\n",
    "- Está claro que las películas populares obtendrán más votos como se muestra en la trama anterior."
   ]
  },
  {
   "cell_type": "code",
   "execution_count": null,
   "metadata": {},
   "outputs": [],
   "source": [
    "# Definimos el tamaño de la figura\n",
    "fig, axes = plt.subplots(nrows=1, ncols=2, figsize=(12, 6))\n",
    "\n",
    "# Agregamos el titulo\n",
    "plt.suptitle(\n",
    "    \"La influencia del presupuesto y los ingresos en la popularidad de las películas\",\n",
    "    fontsize=16,\n",
    "    weight=600,\n",
    "    color=\"#1f1f1f\",\n",
    ")\n",
    "\n",
    "# Graficamos la relacion entre el presupuesto y la popularidad\n",
    "sns.regplot(\n",
    "    data=df,\n",
    "    x=\"budget\",\n",
    "    y=\"popularity\",\n",
    "    scatter_kws={\"color\": generate_rgb(), \"alpha\": 0.5, \"s\": 25},\n",
    "    line_kws={\"color\": \"red\", \"lw\": 1.5},\n",
    "    ax=axes[0],\n",
    ")\n",
    "\n",
    "# Graficamos la relacion entre los ingresos y la popularidad\n",
    "sns.regplot(\n",
    "    data=df,\n",
    "    x=\"revenue\",\n",
    "    y=\"popularity\",\n",
    "    scatter_kws={\"color\": generate_rgb(), \"alpha\": 0.5, \"s\": 25},\n",
    "    line_kws={\"color\": \"red\", \"lw\": 1.5},\n",
    "    ax=axes[1],\n",
    ")\n",
    "\n",
    "plt.tight_layout()"
   ]
  },
  {
   "cell_type": "markdown",
   "metadata": {},
   "source": [
    "El presupuesto y los ingresos influyen ligeramente en la popularidad de las películas."
   ]
  },
  {
   "cell_type": "code",
   "execution_count": null,
   "metadata": {},
   "outputs": [],
   "source": [
    "plt.figure(figsize=(12, 10)) #  tamaño de la figura\n",
    "plt.title(\n",
    "    \"Correlacion de las caracteristicas de las peliculas\\n\",\n",
    "    fontsize=18,\n",
    "    weight=600,\n",
    "    color=\"#1f1f1f\",\n",
    ")\n",
    "# Generamos el mapa de calor\n",
    "sns.heatmap(\n",
    "    df.select_dtypes(include=[\"int64\", \"float64\"]).corr(),  # seleccionamos las columnas numericas\n",
    "    annot=True, # mostrar los valores\n",
    "    cmap=\"viridis\", # mapa de colores\n",
    "    fmt=\".2f\", # formato de los valores\n",
    "    linewidths=1, # ancho de las lineas\n",
    "    linecolor=\"white\", # color de las lineas\n",
    ")"
   ]
  },
  {
   "cell_type": "markdown",
   "metadata": {},
   "source": [
    "\n",
    "El recuento de votos, el presupuesto y la popularidad son tres características dominantes que pueden influir significativamente en los ingresos de las películas. Estos factores suelen estar correlacionados con el éxito financiero de una película."
   ]
  }
 ],
 "metadata": {
  "kernelspec": {
   "display_name": ".env",
   "language": "python",
   "name": "python3"
  },
  "language_info": {
   "codemirror_mode": {
    "name": "ipython",
    "version": 3
   },
   "file_extension": ".py",
   "mimetype": "text/x-python",
   "name": "python",
   "nbconvert_exporter": "python",
   "pygments_lexer": "ipython3",
   "version": "3.9.19"
  }
 },
 "nbformat": 4,
 "nbformat_minor": 2
}
