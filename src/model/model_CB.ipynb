{
 "cells": [
  {
   "cell_type": "code",
   "execution_count": 1,
   "metadata": {},
   "outputs": [
    {
     "name": "stdout",
     "output_type": "stream",
     "text": [
      "<class 'pandas.core.frame.DataFrame'>\n",
      "RangeIndex: 7565 entries, 0 to 7564\n",
      "Data columns (total 29 columns):\n",
      " #   Column                 Non-Null Count  Dtype  \n",
      "---  ------                 --------------  -----  \n",
      " 0   id                     7565 non-null   int64  \n",
      " 1   keywords               7565 non-null   object \n",
      " 2   characters             7565 non-null   object \n",
      " 3   actors                 7565 non-null   object \n",
      " 4   director               7565 non-null   object \n",
      " 5   crew                   7565 non-null   object \n",
      " 6   adult                  7565 non-null   object \n",
      " 7   belongs_to_collection  7565 non-null   object \n",
      " 8   budget                 7565 non-null   int64  \n",
      " 9   genres                 7565 non-null   object \n",
      " 10  homepage               1303 non-null   object \n",
      " 11  imdb_id                7563 non-null   object \n",
      " 12  original_language      7565 non-null   object \n",
      " 13  original_title         7565 non-null   object \n",
      " 14  overview               7565 non-null   object \n",
      " 15  popularity             7565 non-null   float64\n",
      " 16  poster_path            7545 non-null   object \n",
      " 17  production_companies   7565 non-null   object \n",
      " 18  production_countries   7565 non-null   object \n",
      " 19  release_date           7565 non-null   int64  \n",
      " 20  revenue                7565 non-null   int64  \n",
      " 21  runtime                7565 non-null   float64\n",
      " 22  spoken_languages       7565 non-null   object \n",
      " 23  status                 7565 non-null   object \n",
      " 24  tagline                7565 non-null   object \n",
      " 25  title                  7565 non-null   object \n",
      " 26  video                  7565 non-null   bool   \n",
      " 27  vote_average           7565 non-null   float64\n",
      " 28  vote_count             7565 non-null   int64  \n",
      "dtypes: bool(1), float64(3), int64(5), object(20)\n",
      "memory usage: 1.6+ MB\n"
     ]
    }
   ],
   "source": [
    "# Read data_clean\n",
    "import pandas as pd\n",
    "\n",
    "df = pd.read_json('./data_clean/data_clean.json', orient=\"records\")\n",
    "df.info()\n"
   ]
  },
  {
   "cell_type": "code",
   "execution_count": 2,
   "metadata": {},
   "outputs": [],
   "source": [
    "def preprocess_row(row):\n",
    "    # Unir las características adicionales en una sola cadena de texto\n",
    "    genre = row[\"genres\"]\n",
    "    keywords = row[\"keywords\"]\n",
    "    overview = row[\"overview\"]\n",
    "    director = row[\"director\"]\n",
    "    actor = row[\"actors\"]\n",
    "    combined_text = f\" {genre} [SEP] keywords: {keywords} [SEP] overview: {overview} [SEP] director: {director} [SEP] actors: {actor}\"\n",
    "    return combined_text"
   ]
  },
  {
   "cell_type": "code",
   "execution_count": 3,
   "metadata": {},
   "outputs": [
    {
     "name": "stderr",
     "output_type": "stream",
     "text": [
      "/home/felipe/miniconda3/envs/tf/lib/python3.9/site-packages/tqdm/auto.py:21: TqdmWarning: IProgress not found. Please update jupyter and ipywidgets. See https://ipywidgets.readthedocs.io/en/stable/user_install.html\n",
      "  from .autonotebook import tqdm as notebook_tqdm\n"
     ]
    }
   ],
   "source": [
    "import torch\n",
    "from transformers import BertModel, BertTokenizer\n",
    "import pandas as pd\n",
    "import faiss\n",
    "import numpy as np\n",
    "from tqdm import tqdm  # Importar tqdm para la barra de progreso\n",
    "import time  # Importar time para calcular el tiempo transcurrido\n",
    "\n",
    "# Cargar modelo y tokenizer\n",
    "model_name = \"bert-base-uncased\"\n",
    "tokenizer = BertTokenizer.from_pretrained(model_name)\n",
    "model = BertModel.from_pretrained(model_name)\n",
    "device = torch.device(\"cuda\" if torch.cuda.is_available() else \"cpu\")\n",
    "\n",
    "\n",
    "# Función para obtener embeddings por lote\n",
    "def get_bert_embeddings(texts, batch_size=32):\n",
    "    embeddings = []\n",
    "    device = torch.device(\"cuda\" if torch.cuda.is_available() else \"cpu\")\n",
    "    model.to(device)  # Mover el modelo a GPU si está disponible\n",
    "\n",
    "    # Inicializar tqdm para la barra de progreso\n",
    "    pbar = tqdm(total=len(texts), desc=\"Processing texts\", unit=\"texts\")\n",
    "    start_time = time.time()  # Tiempo de inicio del procesamiento\n",
    "\n",
    "    for i in range(0, len(texts), batch_size):\n",
    "        batch_texts = texts[i : i + batch_size]\n",
    "        tokens = tokenizer(\n",
    "            batch_texts, padding=True, truncation=True, return_tensors=\"pt\"\n",
    "        ).to(device)\n",
    "        with torch.no_grad():\n",
    "            outputs = model(**tokens)\n",
    "        batch_embeddings = outputs.last_hidden_state.mean(dim=1)\n",
    "        embeddings.append(batch_embeddings)\n",
    "\n",
    "        # Actualizar la barra de progreso\n",
    "        pbar.update(len(batch_texts))\n",
    "\n",
    "        # Calcular tiempo transcurrido y estimar tiempo restante\n",
    "        elapsed_time = time.time() - start_time\n",
    "        texts_per_sec = (i + len(batch_texts)) / elapsed_time\n",
    "        remaining_time = (len(texts) - (i + len(batch_texts))) / texts_per_sec\n",
    "\n",
    "        # Actualizar descripción de la barra de progreso con el tiempo estimado\n",
    "        pbar.set_postfix({\"ETA\": f\"{remaining_time:.1f} sec\"})\n",
    "\n",
    "    pbar.close()  # Cerrar la barra de progreso al finalizar\n",
    "    return torch.cat(embeddings, dim=0).cpu().numpy()"
   ]
  },
  {
   "cell_type": "code",
   "execution_count": 4,
   "metadata": {},
   "outputs": [],
   "source": [
    "df['combined'] = df.apply(preprocess_row, axis=1)\n",
    "combined_texts = df['combined'].tolist()"
   ]
  },
  {
   "cell_type": "code",
   "execution_count": 5,
   "metadata": {},
   "outputs": [
    {
     "name": "stderr",
     "output_type": "stream",
     "text": [
      "Processing texts: 100%|██████████| 7565/7565 [11:16<00:00, 11.18texts/s, ETA=0.0 sec]  \n"
     ]
    }
   ],
   "source": [
    "# Obtener embeddings\n",
    "embeddings_np = get_bert_embeddings(combined_texts, batch_size=32)"
   ]
  },
  {
   "cell_type": "code",
   "execution_count": 15,
   "metadata": {},
   "outputs": [
    {
     "name": "stdout",
     "output_type": "stream",
     "text": [
      "[3049  608  549 1631  579  660   96 1231    0 2857  976 2787  838 1101]\n",
      "['Bee Movie', 'An American Tail', 'Doctor Dolittle', 'Finding Nemo', 'Gremlins 2: The New Batch', 'Pleasantville', 'The Flintstones', 'The Great Outdoors', 'Toy Story', 'Ratatouille', 'Return to Me', 'Open Season', 'Home Alone 2: Lost in New York', 'How the Grinch Stole Christmas']\n"
     ]
    }
   ],
   "source": [
    "# Crear el índice en FAISS\n",
    "d = embeddings_np.shape[1]\n",
    "index = faiss.IndexFlatL2(d)\n",
    "index.add(embeddings_np)\n",
    "\n",
    "# Función para obtener recomendaciones con FAISS\n",
    "import numpy as np\n",
    "\n",
    "def get_recommendations_faiss(titles, df, index, embeddings, k=10):\n",
    "    # Obtener los índices de las películas que coinciden con los títulos\n",
    "    indices = [df[df['title'] == title].index[0] for title in titles]\n",
    "    \n",
    "    # Obtener los embeddings promedio de las películas\n",
    "    avg_embedding = np.mean(embeddings[indices], axis=0, keepdims=True)\n",
    "    # Buscar los k vecinos más cercanos al embedding promedio\n",
    "    D, I = index.search(avg_embedding, k)\n",
    "    \n",
    "    # I[0][1:] contiene los índices de las películas más similares (excluyendo las ingresadas)\n",
    "    movie_indices = I[0][1:]\n",
    "    print(movie_indices)\n",
    "    # Devolver los títulos de las películas recomendadas\n",
    "    return df['title'].iloc[movie_indices].tolist()\n",
    "\n",
    "\n",
    "# Ejemplo de uso\n",
    "recommended_movies_faiss = get_recommendations_faiss(['Ratatouille',\"Toy Story\"], df, index, embeddings_np, k=15)\n",
    "print(recommended_movies_faiss)\n"
   ]
  },
  {
   "cell_type": "code",
   "execution_count": 20,
   "metadata": {},
   "outputs": [
    {
     "data": {
      "text/plain": [
       "3049    5559\n",
       "608     4978\n",
       "Name: id, dtype: int64"
      ]
     },
     "execution_count": 20,
     "metadata": {},
     "output_type": "execute_result"
    }
   ],
   "source": [
    "df.iloc[[3049, 608]][\"id\"]"
   ]
  },
  {
   "cell_type": "code",
   "execution_count": 9,
   "metadata": {},
   "outputs": [],
   "source": [
    "# Guardar embeddings y el índice en FAISS\n",
    "np.save('./assets/embeddings.npy', embeddings_np)\n",
    "\n",
    "d = embeddings_np.shape[1]\n",
    "index = faiss.IndexFlatL2(d)\n",
    "index.add(embeddings_np)\n",
    "faiss.write_index(index, './assets/embedding_index.faiss')"
   ]
  }
 ],
 "metadata": {
  "kernelspec": {
   "display_name": "tf",
   "language": "python",
   "name": "python3"
  },
  "language_info": {
   "codemirror_mode": {
    "name": "ipython",
    "version": 3
   },
   "file_extension": ".py",
   "mimetype": "text/x-python",
   "name": "python",
   "nbconvert_exporter": "python",
   "pygments_lexer": "ipython3",
   "version": "3.9.19"
  }
 },
 "nbformat": 4,
 "nbformat_minor": 2
}
